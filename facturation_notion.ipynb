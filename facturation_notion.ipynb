{
 "cells": [
  {
   "cell_type": "markdown",
   "metadata": {},
   "source": [
    "# 📘 Projet Python : Facturation automatique dans Notion via API\n",
    "## Par Imane Benamar\n",
    "---\n",
    "Ce notebook présente pas à pas la construction d'un système de facturation automatique basé sur une base de données Notion.\n",
    "\n",
    "Les étapes couvrent la récupération des données, l'analyse, la génération de facture et la mise à jour dans Notion."
   ],
   "id": "6ac6284643d81214"
  },
  {
   "cell_type": "code",
   "metadata": {
    "ExecuteTime": {
     "end_time": "2025-06-12T10:24:04.450009Z",
     "start_time": "2025-06-12T10:24:04.442888Z"
    }
   },
   "source": [
    "# ✅ Étape 1 – Chargement des clés d'accès\n",
    "from dotenv import load_dotenv\n",
    "import os\n",
    "\n",
    "load_dotenv()\n",
    "NOTION_TOKEN = os.getenv('NOTION_TOKEN')\n",
    "DB_INTERVENTIONS_ID = os.getenv('DB_INTERVENTIONS_ID')\n",
    "DB_INVOICES_ID = os.getenv('DB_INVOICES_ID')\n",
    "print(\"🔐 Clés chargées avec succès\")"
   ],
   "id": "ceca73c58f4c7ee7",
   "outputs": [
    {
     "name": "stdout",
     "output_type": "stream",
     "text": [
      "🔐 Clés chargées avec succès\n"
     ]
    }
   ],
   "execution_count": 7
  },
  {
   "cell_type": "code",
   "metadata": {
    "ExecuteTime": {
     "end_time": "2025-06-12T10:24:04.484310Z",
     "start_time": "2025-06-12T10:24:04.480428Z"
    }
   },
   "source": [
    "# ✅ Étape 2 – Préparer les entêtes Notion API\n",
    "HEADERS = {\n",
    "    \"Authorization\": f\"Bearer {NOTION_TOKEN}\",\n",
    "    \"Notion-Version\": \"2022-06-28\",\n",
    "    \"Content-Type\": \"application/json\"\n",
    "}\n",
    "print(\"📡 Headers définis.\")"
   ],
   "id": "143d074b60782f6b",
   "outputs": [
    {
     "name": "stdout",
     "output_type": "stream",
     "text": [
      "📡 Headers définis.\n"
     ]
    }
   ],
   "execution_count": 8
  },
  {
   "cell_type": "code",
   "metadata": {
    "ExecuteTime": {
     "end_time": "2025-06-12T10:24:04.521694Z",
     "start_time": "2025-06-12T10:24:04.517791Z"
    }
   },
   "source": [
    "# ✅ Étape 3 – Requête pour récupérer les interventions non facturées\n",
    "import requests\n",
    "\n",
    "def query_unbilled_entries(date_begin: str, date_end: str, a_ete_facture: bool = False):\n",
    "    query = {\n",
    "        \"filter\": {\n",
    "            \"and\": [\n",
    "                {\"property\": \"Facturé\", \"checkbox\": {\"equals\": a_ete_facture}},\n",
    "                {\"property\": \"Date de début\", \"date\": {\"on_or_after\": date_begin}},\n",
    "                {\"property\": \"Date de début\", \"date\": {\"before\": date_end}}\n",
    "            ]\n",
    "        }\n",
    "    }\n",
    "\n",
    "    url = f\"https://api.notion.com/v1/databases/{DB_INTERVENTIONS_ID}/query\"\n",
    "    response = requests.post(url, headers=HEADERS, json=query)\n",
    "    response.raise_for_status()\n",
    "    return response.json()[\"results\"]"
   ],
   "id": "50d078ecd8f0d44",
   "outputs": [],
   "execution_count": 9
  },
  {
   "cell_type": "code",
   "metadata": {
    "ExecuteTime": {
     "end_time": "2025-06-12T10:24:04.867220Z",
     "start_time": "2025-06-12T10:24:04.537357Z"
    }
   },
   "source": [
    "# ✅ Étape 4 – Analyse des données avec pandas\n",
    "import pandas as pd\n",
    "\n",
    "def extract_data_from_notion(interventions):\n",
    "    data = []\n",
    "    for item in interventions:\n",
    "        props = item[\"properties\"]\n",
    "        data.append({\n",
    "            \"Cours\": props[\"Cours\"][\"title\"][0][\"text\"][\"content\"] if props[\"Cours\"][\"title\"] else None,\n",
    "            \"École\": props[\"Ecole\"][\"select\"][\"name\"] if props[\"Ecole\"][\"select\"] else None,\n",
    "            \"Classe\": props[\"Classe\"][\"select\"][\"name\"] if props[\"Classe\"][\"select\"] else None,\n",
    "            \"Heures\": props[\"Nombre heures\"][\"number\"],\n",
    "            \"Tarif horaire\": props[\"Tarif horaire\"][\"number\"],\n",
    "            \"Total\": round(props[\"Nombre heures\"][\"number\"] * props[\"Tarif horaire\"][\"number\"], 2)\n",
    "        })\n",
    "    return pd.DataFrame(data)"
   ],
   "id": "6ad9e84fbbde2105",
   "outputs": [],
   "execution_count": 10
  },
  {
   "cell_type": "code",
   "metadata": {
    "ExecuteTime": {
     "end_time": "2025-06-12T10:24:04.881110Z",
     "start_time": "2025-06-12T10:24:04.875903Z"
    }
   },
   "source": [
    "# ✅ Étape 5 – Création d'une facture Notion\n",
    "def generate_invoice_blocks(interventions, total, client, mois):\n",
    "    children = [\n",
    "        {\"object\": \"block\", \"type\": \"heading_1\", \"heading_1\": {\"rich_text\": [{\"type\": \"text\", \"text\": {\"content\": \"FACTURE\"}}]}},\n",
    "        {\"object\": \"block\", \"type\": \"paragraph\", \"paragraph\": {\"rich_text\": [{\"type\": \"text\", \"text\": {\"content\": f\"Client : {client}\"}}]}},\n",
    "        {\"object\": \"block\", \"type\": \"paragraph\", \"paragraph\": {\"rich_text\": [{\"type\": \"text\", \"text\": {\"content\": f\"Mois : {mois}\"}}]}},\n",
    "        {\"object\": \"block\", \"type\": \"divider\", \"divider\": {}},\n",
    "        {\"object\": \"block\", \"type\": \"heading_2\", \"heading_2\": {\"rich_text\": [{\"type\": \"text\", \"text\": {\"content\": \"Détail des interventions\"}}]}},\n",
    "        {\"object\": \"block\", \"type\": \"paragraph\", \"paragraph\": {\"rich_text\": [{\"type\": \"text\", \"text\": {\"content\": \"Cours | Heures | Tarif | Total\"}}]}}\n",
    "    ]\n",
    "    for item in interventions:\n",
    "        props = item[\"properties\"]\n",
    "        cours = props[\"Cours\"][\"title\"][0][\"text\"][\"content\"]\n",
    "        h = props[\"Nombre heures\"][\"number\"]\n",
    "        t = props[\"Tarif horaire\"][\"number\"]\n",
    "        ligne = f\"{cours} | {h}h | {t}€ | {round(h*t, 2)}€\"\n",
    "        children.append({\"object\": \"block\", \"type\": \"paragraph\", \"paragraph\": {\"rich_text\": [{\"type\": \"text\", \"text\": {\"content\": ligne}}]}})\n",
    "    children.append({\"object\": \"block\", \"type\": \"callout\", \"callout\": {\"icon\": {\"type\": \"emoji\", \"emoji\": \"💰\"}, \"rich_text\": [{\"type\": \"text\", \"text\": {\"content\": f\"Total à payer : {total} €\"}}]}})\n",
    "    return children"
   ],
   "id": "79d7507f1f984632",
   "outputs": [],
   "execution_count": 11
  },
  {
   "cell_type": "code",
   "metadata": {
    "ExecuteTime": {
     "end_time": "2025-06-12T10:24:04.895117Z",
     "start_time": "2025-06-12T10:24:04.891540Z"
    }
   },
   "source": [
    "# ✅ Étape 6 – Envoi de la facture dans Notion\n",
    "def create_invoice_page(client, interventions, total, mois, invoice_number):\n",
    "    blocks = generate_invoice_blocks(interventions, total, client, mois)\n",
    "    payload = {\n",
    "        \"parent\": {\"database_id\": DB_INVOICES_ID},\n",
    "        \"properties\": {\n",
    "            \"Client\": {\"title\": [{\"text\": {\"content\": client}}]},\n",
    "            \"Mois\": {\"rich_text\": [{\"text\": {\"content\": mois}}]},\n",
    "            \"Total Amount\": {\"number\": total},\n",
    "            \"Invoice Number\": {\"rich_text\": [{\"text\": {\"content\": invoice_number}}]}\n",
    "        },\n",
    "        \"children\": blocks\n",
    "    }\n",
    "    res = requests.post(\"https://api.notion.com/v1/pages\", headers=HEADERS, json=payload)\n",
    "    res.raise_for_status()\n",
    "    print(f\"✅ Facture '{invoice_number}' créée avec succès\")"
   ],
   "id": "23bb458f4bf7a5af",
   "outputs": [],
   "execution_count": 12
  },
  {
   "cell_type": "code",
   "metadata": {
    "ExecuteTime": {
     "end_time": "2025-06-12T10:24:04.907497Z",
     "start_time": "2025-06-12T10:24:04.904386Z"
    }
   },
   "source": [
    "# ✅ Étape 7 – Marquer les interventions comme facturées\n",
    "def mark_as_billed(pages):\n",
    "    for page in pages:\n",
    "        page_id = page[\"id\"]\n",
    "        update_payload = {\"properties\": {\"Facturé\": {\"checkbox\": True}}}\n",
    "        response = requests.patch(f\"https://api.notion.com/v1/pages/{page_id}\", headers=HEADERS, json=update_payload)\n",
    "        response.raise_for_status()\n",
    "        print(f\"✅ Intervention {page_id} mise à jour.\")"
   ],
   "id": "626caf21bb423b50",
   "outputs": [],
   "execution_count": 13
  }
 ],
 "metadata": {
  "kernelspec": {
   "display_name": "Python 3",
   "language": "python",
   "name": "python3"
  },
  "language_info": {
   "name": "python"
  }
 },
 "nbformat": 4,
 "nbformat_minor": 5
}
